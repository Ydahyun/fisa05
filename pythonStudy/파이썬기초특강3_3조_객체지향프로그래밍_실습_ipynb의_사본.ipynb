{
  "nbformat": 4,
  "nbformat_minor": 0,
  "metadata": {
    "colab": {
      "provenance": []
    },
    "kernelspec": {
      "name": "python3",
      "display_name": "Python 3"
    },
    "language_info": {
      "name": "python"
    }
  },
  "cells": [
    {
      "cell_type": "code",
      "execution_count": null,
      "metadata": {
        "id": "CTO69_A__dFd"
      },
      "outputs": [],
      "source": [
        "\n",
        "class Product:\n",
        "    product_cnt: int = 0 # 상품 종류 세기\n",
        "    def __init__(self, name, quantity, price):\n",
        "        self.name = name                    # 상품명\n",
        "        self.quantity = quantity            # 수량\n",
        "        self.price = price                  # 가격\n",
        "        # 일련번호\n",
        "        Product.product_cnt += 1\n",
        "        self.serial_number = Product.product_cnt\n",
        "    def minus(self, quantity):\n",
        "        if quantity > self.quantity:\n",
        "            print(\"재고 부족.\")\n",
        "            return False\n",
        "        self.quantity -= quantity\n",
        "        return True\n",
        "    def __str__(self):\n",
        "        return f\"일련번호:{self.serial_number} | 상품명:{self.name} | 수량:{self.quantity} | 가격:{self.price}원\"\n",
        "\n",
        "# 등급 업데이트 기능 나중에 생각\n",
        "class Member:\n",
        "    # member 고유 번호\n",
        "    member_cnt: int = 0\n",
        "    # 오버라이드\n",
        "    grade: str = None\n",
        "    reward_rate: float = 0\n",
        "    coupon_count = 0\n",
        "    coupon_value = 0\n",
        "    double_review = False\n",
        "    def __init__(self, name: str):\n",
        "        self.name: str = name # 회원 이름\n",
        "        self.amount: int = 0  # 구매 금액 (월 단위 구분 ㄴㄴ)\n",
        "        # 회원 고유 번호 할당\n",
        "        type(self).member_cnt += 1\n",
        "        self.member_id = type(self).member_cnt\n",
        "    def buy(self, product: Product, quantity: int):\n",
        "        if isinstance(product, Product) == True:\n",
        "            total_price = product.price * quantity\n",
        "            if product.minus(quantity) == True:\n",
        "                self.amount += total_price\n",
        "                print(f\"{product.name} {quantity}개 구매, 결제금액: {total_price}원\")\n",
        "        else:\n",
        "            if product.quantity < quantity:\n",
        "                raise Exception(\"재고가 부족합니다.\")\n",
        "    def __str__(self):\n",
        "        info = (\n",
        "            f\"회원명: {self.name} | 등급: {self.grade} | 누적금액: {self.amount}원\\n\"\n",
        "            f\"적립률: {self.reward_rate*100:.1f}% | 할인쿠폰: {self.coupon_count}장 (장당 {self.coupon_value}원)\\n\"\n",
        "            f\"더블 후기: {'적립 가능' if self.double_review else '적립 불가'}\"\n",
        "        )\n",
        "        return info\n",
        "    @staticmethod\n",
        "    def event(member, product, quantity):\n",
        "        # member, product 타입 예외 처리\n",
        "        match member.grade:\n",
        "            case 'Plain':\n",
        "                if member.amount > 100_000:\n",
        "                    product.minus(quantity * 1)\n",
        "            case 'Friends':\n",
        "                if member.amount > 200_000:\n",
        "                    product.minus(quantity * 2)\n",
        "            case 'Purple':\n",
        "                if member.amount > 300_000:\n",
        "                    product.minus(quantity * 3)\n",
        "            case _:\n",
        "                pass\n",
        "class Plain(Member):\n",
        "    grade: str = \"Plain\"\n",
        "    reward_rate: float = 0.05\n",
        "    def __init__(self, name):\n",
        "        super().__init__(name)\n",
        "\n",
        "class Friends(Member):\n",
        "    grade: str = \"Friends\"\n",
        "    reward_rate: float = 0.01\n",
        "    coupon_count: int = 3\n",
        "    coupon_value: int = 6000\n",
        "    double_review: bool = False\n",
        "    def __init__(self, name):\n",
        "        super().__init__(name)\n",
        "\n",
        "class Purple(Member):\n",
        "    grade: str = \"Purple\"\n",
        "    reward_rate: float = 0.07\n",
        "    coupon_count: int = 4\n",
        "    coupon_value: int = 10000\n",
        "    double_review: bool = True\n",
        "    def __init__(self, name):\n",
        "        super().__init__(name)"
      ]
    },
    {
      "cell_type": "code",
      "source": [
        "새우깡 = Product('새우깡', 100, 1500)\n",
        "포스틱 = Product('포스틱', 100, 2000)\n",
        "print(새우깡)\n",
        "print(포스틱)\n",
        "다현 = Plain('다현')\n",
        "정환 = Friends('정환')\n",
        "동호 = Purple('동호')\n",
        "소정 = Purple('소정')\n",
        "print(다현)\n",
        "members = [다현, 정환, 동호, 소정]\n",
        "다현.buy(새우깡, 5)\n",
        "print(새우깡)\n",
        "for member in members:\n",
        "    member.amount = 10 ** 10\n",
        "    Member.event(member, 새우깡, 15)\n",
        "print(새우깡)"
      ],
      "metadata": {
        "id": "_FwFHW44_vHc",
        "outputId": "06ee629d-751d-4667-9af4-936f381e6e4d",
        "colab": {
          "base_uri": "https://localhost:8080/"
        }
      },
      "execution_count": null,
      "outputs": [
        {
          "output_type": "stream",
          "name": "stdout",
          "text": [
            "일련번호:1 | 상품명:새우깡 | 수량:100 | 가격:1500원\n",
            "일련번호:2 | 상품명:포스틱 | 수량:100 | 가격:2000원\n",
            "회원명: 다현 | 등급: Plain | 누적금액: 0원\n",
            "적립률: 5.0% | 할인쿠폰: 0장 (장당 0원)\n",
            "더블 후기: 적립 불가\n",
            "새우깡 5개 구매, 결제금액: 7500원\n",
            "일련번호:1 | 상품명:새우깡 | 수량:95 | 가격:1500원\n",
            "재고 부족.\n",
            "일련번호:1 | 상품명:새우깡 | 수량:5 | 가격:1500원\n"
          ]
        }
      ]
    },
    {
      "cell_type": "code",
      "source": [],
      "metadata": {
        "id": "T22tJDYn_vja"
      },
      "execution_count": null,
      "outputs": []
    }
  ]
}